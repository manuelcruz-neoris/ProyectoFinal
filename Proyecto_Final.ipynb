{
  "nbformat": 4,
  "nbformat_minor": 0,
  "metadata": {
    "colab": {
      "name": "Proyecto_Final.ipynb",
      "provenance": []
    },
    "kernelspec": {
      "name": "python3",
      "display_name": "Python 3"
    },
    "language_info": {
      "name": "python"
    }
  },
  "cells": [
    {
      "cell_type": "markdown",
      "source": [
        "#**Proyecto final**"
      ],
      "metadata": {
        "id": "BqR-ya2uF-X6"
      }
    },
    {
      "cell_type": "markdown",
      "source": [
        "Se realiza un modelo de regresión lineal para predecir el precio de un automóvil usado"
      ],
      "metadata": {
        "id": "OW738MGCHjGb"
      }
    },
    {
      "cell_type": "markdown",
      "source": [
        "\n",
        "Datos a analizar\n",
        "\n",
        "|ID|Feature name|Feature description|\n",
        "|:--|:--|:--|\n",
        "|1|**Car_Name**| Nombre del auto |\n",
        "|2|**Year**| Año de fabricación |\n",
        "|3|**Selling_Price**| Precio de venta |\n",
        "|4|**Present_Price**| Precio actual |\n",
        "|5|**Kms_Driven**| Distancia recorrida por el auto (en KMs) |\n",
        "|6|**Fuel_Type**| Tipo de combustible |\n",
        "|7|**Seller_Type**| Tipo de vendedor |\n",
        "|8|**Transmission**| Tipo de transmisión del auto |\n",
        "|9|**Owner**| Numero de dueños |"
      ],
      "metadata": {
        "id": "FYH-DdMMqPfq"
      }
    },
    {
      "cell_type": "markdown",
      "source": [
        "Instalación de pyspark"
      ],
      "metadata": {
        "id": "AzYnlffGGNL0"
      }
    },
    {
      "cell_type": "code",
      "metadata": {
        "id": "5ScFdrgbPF0a"
      },
      "source": [
        "!pip install -q pyspark\n",
        "!pip install -q handyspark"
      ],
      "execution_count": 9,
      "outputs": []
    },
    {
      "cell_type": "markdown",
      "source": [
        "Importando librerias"
      ],
      "metadata": {
        "id": "neWi6kiWGSih"
      }
    },
    {
      "cell_type": "code",
      "metadata": {
        "id": "6guPaF6odM16"
      },
      "source": [
        "from pyspark import SparkContext                                    \n",
        "from pyspark.sql import SparkSession, Window, Row                   \n",
        "from pyspark.sql import functions as F                             \n",
        "from pyspark.sql.functions import col, isnan, when, count           \n",
        "from pyspark.sql.functions import *                                 \n",
        "from pyspark.sql.types import *                                     \n",
        "\n",
        "import matplotlib.pyplot as plt                                     \n",
        "%matplotlib inline                                                  \n",
        "import seaborn as sns                                               \n",
        "from handyspark import *                                            \n",
        "\n",
        "from pyspark.ml.feature import VectorAssembler                      \n",
        "from pyspark.ml.regression import LinearRegression                  \n",
        "\n",
        "import warnings                                                     \n",
        "warnings.filterwarnings(\"ignore\")                                   \n"
      ],
      "execution_count": 16,
      "outputs": []
    },
    {
      "cell_type": "markdown",
      "source": [
        "Inciando sesión de Spark"
      ],
      "metadata": {
        "id": "1owR7nJbGW3T"
      }
    },
    {
      "cell_type": "code",
      "metadata": {
        "id": "34Q1RAlxLXqB",
        "colab": {
          "base_uri": "https://localhost:8080/",
          "height": 219
        },
        "outputId": "670830bf-7d93-44bc-b8fc-264ede87085b"
      },
      "source": [
        "spark = SparkSession.builder.appName(\"carsSpark\").getOrCreate()\n",
        "spark"
      ],
      "execution_count": 17,
      "outputs": [
        {
          "output_type": "execute_result",
          "data": {
            "text/plain": [
              "<pyspark.sql.session.SparkSession at 0x7f19a2118250>"
            ],
            "text/html": [
              "\n",
              "            <div>\n",
              "                <p><b>SparkSession - in-memory</b></p>\n",
              "                \n",
              "        <div>\n",
              "            <p><b>SparkContext</b></p>\n",
              "\n",
              "            <p><a href=\"http://0c5c4da4f24a:4040\">Spark UI</a></p>\n",
              "\n",
              "            <dl>\n",
              "              <dt>Version</dt>\n",
              "                <dd><code>v3.3.0</code></dd>\n",
              "              <dt>Master</dt>\n",
              "                <dd><code>local[*]</code></dd>\n",
              "              <dt>AppName</dt>\n",
              "                <dd><code>carsSpark</code></dd>\n",
              "            </dl>\n",
              "        </div>\n",
              "        \n",
              "            </div>\n",
              "        "
            ]
          },
          "metadata": {},
          "execution_count": 17
        }
      ]
    },
    {
      "cell_type": "markdown",
      "source": [
        "Lectura de datos"
      ],
      "metadata": {
        "id": "A1PnIw5iHAda"
      }
    },
    {
      "cell_type": "code",
      "metadata": {
        "id": "K1YfSz4NNXfx",
        "colab": {
          "base_uri": "https://localhost:8080/"
        },
        "outputId": "00316741-b1df-45b1-a7b9-e4acd05d41b2"
      },
      "source": [
        "# Lectura de archivo\n",
        "df = spark.read.csv('car_data.csv', header=True, inferSchema=\"true\")\n",
        "\n",
        "# Tamaño del df\n",
        "print('Shape of the dataset: ', (df.count(), len(df.columns)))\n",
        "\n",
        "# Mostrando las primeras 10 filas\n",
        "df.show(n=10)"
      ],
      "execution_count": 19,
      "outputs": [
        {
          "output_type": "stream",
          "name": "stdout",
          "text": [
            "Shape of the dataset:  (301, 9)\n",
            "+-------------+----+-------------+-------------+----------+---------+-----------+------------+-----+\n",
            "|     Car_Name|Year|Selling_Price|Present_Price|Kms_Driven|Fuel_Type|Seller_Type|Transmission|Owner|\n",
            "+-------------+----+-------------+-------------+----------+---------+-----------+------------+-----+\n",
            "|         ritz|2014|         3.35|         5.59|     27000|   Petrol|     Dealer|      Manual|    0|\n",
            "|          sx4|2013|         4.75|         9.54|     43000|   Diesel|     Dealer|      Manual|    0|\n",
            "|         ciaz|2017|         7.25|         9.85|      6900|   Petrol|     Dealer|      Manual|    0|\n",
            "|      wagon r|2011|         2.85|         4.15|      5200|   Petrol|     Dealer|      Manual|    0|\n",
            "|        swift|2014|          4.6|         6.87|     42450|   Diesel|     Dealer|      Manual|    0|\n",
            "|vitara brezza|2018|         9.25|         9.83|      2071|   Diesel|     Dealer|      Manual|    0|\n",
            "|         ciaz|2015|         6.75|         8.12|     18796|   Petrol|     Dealer|      Manual|    0|\n",
            "|      s cross|2015|          6.5|         8.61|     33429|   Diesel|     Dealer|      Manual|    0|\n",
            "|         ciaz|2016|         8.75|         8.89|     20273|   Diesel|     Dealer|      Manual|    0|\n",
            "|         ciaz|2015|         7.45|         8.92|     42367|   Diesel|     Dealer|      Manual|    0|\n",
            "+-------------+----+-------------+-------------+----------+---------+-----------+------------+-----+\n",
            "only showing top 10 rows\n",
            "\n"
          ]
        }
      ]
    },
    {
      "cell_type": "markdown",
      "source": [
        "Estadística de los datos"
      ],
      "metadata": {
        "id": "8A5YignnHI0O"
      }
    },
    {
      "cell_type": "code",
      "metadata": {
        "colab": {
          "base_uri": "https://localhost:8080/"
        },
        "id": "9WpQdOZdO8EZ",
        "outputId": "b5a644a9-3d63-47f8-d039-e949238f3756"
      },
      "source": [
        "df.describe().show()"
      ],
      "execution_count": 20,
      "outputs": [
        {
          "output_type": "stream",
          "name": "stdout",
          "text": [
            "+-------+--------+------------------+-----------------+-----------------+-----------------+---------+-----------+------------+-------------------+\n",
            "|summary|Car_Name|              Year|    Selling_Price|    Present_Price|       Kms_Driven|Fuel_Type|Seller_Type|Transmission|              Owner|\n",
            "+-------+--------+------------------+-----------------+-----------------+-----------------+---------+-----------+------------+-------------------+\n",
            "|  count|     301|               301|              301|              301|              301|      301|        301|         301|                301|\n",
            "|   mean|   800.0|2013.6279069767443|4.661295681063127|7.628471760797344|36947.20598006644|     null|       null|        null|0.04318936877076412|\n",
            "| stddev|    null|2.8915541273367253|5.082811556177805|8.644115402015789|38886.88388206789|     null|       null|        null| 0.2479148926949198|\n",
            "|    min|     800|              2003|              0.1|             0.32|              500|      CNG|     Dealer|   Automatic|                  0|\n",
            "|    max|   xcent|              2018|             35.0|             92.6|           500000|   Petrol| Individual|      Manual|                  3|\n",
            "+-------+--------+------------------+-----------------+-----------------+-----------------+---------+-----------+------------+-------------------+\n",
            "\n"
          ]
        }
      ]
    },
    {
      "cell_type": "markdown",
      "source": [
        "Información de las columnas"
      ],
      "metadata": {
        "id": "ce7t-ONCHZrM"
      }
    },
    {
      "cell_type": "code",
      "metadata": {
        "colab": {
          "base_uri": "https://localhost:8080/"
        },
        "id": "KpsHqS4hN6_O",
        "outputId": "68f9f1c2-2ed5-4420-8383-3124132248d6"
      },
      "source": [
        "df.printSchema()   "
      ],
      "execution_count": null,
      "outputs": [
        {
          "output_type": "stream",
          "name": "stdout",
          "text": [
            "root\n",
            " |-- Car_Name: string (nullable = true)\n",
            " |-- Year: integer (nullable = true)\n",
            " |-- Selling_Price: double (nullable = true)\n",
            " |-- Present_Price: double (nullable = true)\n",
            " |-- Kms_Driven: integer (nullable = true)\n",
            " |-- Fuel_Type: string (nullable = true)\n",
            " |-- Seller_Type: string (nullable = true)\n",
            " |-- Transmission: string (nullable = true)\n",
            " |-- Owner: integer (nullable = true)\n",
            "\n"
          ]
        }
      ]
    },
    {
      "cell_type": "markdown",
      "source": [
        "Corroborando el tipo de datos"
      ],
      "metadata": {
        "id": "UvfMfYBFHy12"
      }
    },
    {
      "cell_type": "code",
      "metadata": {
        "colab": {
          "base_uri": "https://localhost:8080/"
        },
        "id": "zGQSitFkOeZM",
        "outputId": "dbf42032-5dea-4412-afc6-ca8a1872b957"
      },
      "source": [
        "print(type(df))\n",
        "print(type(df.select('Selling_Price')))"
      ],
      "execution_count": 21,
      "outputs": [
        {
          "output_type": "stream",
          "name": "stdout",
          "text": [
            "<class 'pyspark.sql.dataframe.DataFrame'>\n",
            "<class 'pyspark.sql.dataframe.DataFrame'>\n"
          ]
        }
      ]
    },
    {
      "cell_type": "markdown",
      "source": [
        "Encontrando valores nulos"
      ],
      "metadata": {
        "id": "VjrYFvCpIrGo"
      }
    },
    {
      "cell_type": "code",
      "source": [
        "# Creating a dataframe to check null value counts\n",
        "null_df = df.select([count(when(col(c).contains('None') | \\\n",
        "                            col(c).contains('NULL') | \\\n",
        "                            (col(c) == '') | \\\n",
        "                            col(c).isNull() | \\\n",
        "                            isnan(c), c \n",
        "                           )).alias(c)\n",
        "                    for c in df.columns])\n",
        "\n",
        "# Displaying the null value counts dataframe\n",
        "null_df.show()"
      ],
      "metadata": {
        "colab": {
          "base_uri": "https://localhost:8080/"
        },
        "id": "imnrr1GSIEsK",
        "outputId": "b6ac0828-d9e9-4806-9bdd-79eadf0b37e3"
      },
      "execution_count": 22,
      "outputs": [
        {
          "output_type": "stream",
          "name": "stdout",
          "text": [
            "+--------+----+-------------+-------------+----------+---------+-----------+------------+-----+\n",
            "|Car_Name|Year|Selling_Price|Present_Price|Kms_Driven|Fuel_Type|Seller_Type|Transmission|Owner|\n",
            "+--------+----+-------------+-------------+----------+---------+-----------+------------+-----+\n",
            "|       0|   0|            0|            0|         0|        0|          0|           0|    0|\n",
            "+--------+----+-------------+-------------+----------+---------+-----------+------------+-----+\n",
            "\n"
          ]
        }
      ]
    },
    {
      "cell_type": "markdown",
      "source": [
        "Convertimos de string a date el año y posteriormente a timestamp para mejor manipulación"
      ],
      "metadata": {
        "id": "K0Rs6ik8IvgL"
      }
    },
    {
      "cell_type": "code",
      "source": [
        "df1 = df.withColumn(\"Year\", F.to_date(F.col(\"Year\").cast(\"string\"), 'yyyy'))\n",
        "\n",
        "df = df1.withColumn('Year', F.year(F.to_timestamp('Year', 'yyyy')))\n",
        "df.show()"
      ],
      "metadata": {
        "colab": {
          "base_uri": "https://localhost:8080/"
        },
        "id": "zIrAgT8FbiJx",
        "outputId": "dd79964d-911d-4f92-9fb7-4ebda67ae7d0"
      },
      "execution_count": 24,
      "outputs": [
        {
          "output_type": "stream",
          "name": "stdout",
          "text": [
            "+-------------+----+-------------+-------------+----------+---------+-----------+------------+-----+\n",
            "|     Car_Name|Year|Selling_Price|Present_Price|Kms_Driven|Fuel_Type|Seller_Type|Transmission|Owner|\n",
            "+-------------+----+-------------+-------------+----------+---------+-----------+------------+-----+\n",
            "|         ritz|2014|         3.35|         5.59|     27000|   Petrol|     Dealer|      Manual|    0|\n",
            "|          sx4|2013|         4.75|         9.54|     43000|   Diesel|     Dealer|      Manual|    0|\n",
            "|         ciaz|2017|         7.25|         9.85|      6900|   Petrol|     Dealer|      Manual|    0|\n",
            "|      wagon r|2011|         2.85|         4.15|      5200|   Petrol|     Dealer|      Manual|    0|\n",
            "|        swift|2014|          4.6|         6.87|     42450|   Diesel|     Dealer|      Manual|    0|\n",
            "|vitara brezza|2018|         9.25|         9.83|      2071|   Diesel|     Dealer|      Manual|    0|\n",
            "|         ciaz|2015|         6.75|         8.12|     18796|   Petrol|     Dealer|      Manual|    0|\n",
            "|      s cross|2015|          6.5|         8.61|     33429|   Diesel|     Dealer|      Manual|    0|\n",
            "|         ciaz|2016|         8.75|         8.89|     20273|   Diesel|     Dealer|      Manual|    0|\n",
            "|         ciaz|2015|         7.45|         8.92|     42367|   Diesel|     Dealer|      Manual|    0|\n",
            "|     alto 800|2017|         2.85|          3.6|      2135|   Petrol|     Dealer|      Manual|    0|\n",
            "|         ciaz|2015|         6.85|        10.38|     51000|   Diesel|     Dealer|      Manual|    0|\n",
            "|         ciaz|2015|          7.5|         9.94|     15000|   Petrol|     Dealer|   Automatic|    0|\n",
            "|       ertiga|2015|          6.1|         7.71|     26000|   Petrol|     Dealer|      Manual|    0|\n",
            "|        dzire|2009|         2.25|         7.21|     77427|   Petrol|     Dealer|      Manual|    0|\n",
            "|       ertiga|2016|         7.75|        10.79|     43000|   Diesel|     Dealer|      Manual|    0|\n",
            "|       ertiga|2015|         7.25|        10.79|     41678|   Diesel|     Dealer|      Manual|    0|\n",
            "|       ertiga|2016|         7.75|        10.79|     43000|   Diesel|     Dealer|      Manual|    0|\n",
            "|      wagon r|2015|         3.25|         5.09|     35500|      CNG|     Dealer|      Manual|    0|\n",
            "|          sx4|2010|         2.65|         7.98|     41442|   Petrol|     Dealer|      Manual|    0|\n",
            "+-------------+----+-------------+-------------+----------+---------+-----------+------------+-----+\n",
            "only showing top 20 rows\n",
            "\n"
          ]
        }
      ]
    },
    {
      "cell_type": "markdown",
      "source": [
        "Convertimos el pyspark df a handyspark df para visualización con pandas"
      ],
      "metadata": {
        "id": "RIMjnJYLJnsK"
      }
    },
    {
      "cell_type": "code",
      "source": [
        "hdf = df.toHandy()\n",
        "hdf.show()"
      ],
      "metadata": {
        "colab": {
          "base_uri": "https://localhost:8080/"
        },
        "id": "2mFi8qs9biHT",
        "outputId": "300a0f21-9e43-416d-b54e-80c4ebec5b09"
      },
      "execution_count": 25,
      "outputs": [
        {
          "output_type": "stream",
          "name": "stdout",
          "text": [
            "+-------------+----+-------------+-------------+----------+---------+-----------+------------+-----+\n",
            "|     Car_Name|Year|Selling_Price|Present_Price|Kms_Driven|Fuel_Type|Seller_Type|Transmission|Owner|\n",
            "+-------------+----+-------------+-------------+----------+---------+-----------+------------+-----+\n",
            "|         ritz|2014|         3.35|         5.59|     27000|   Petrol|     Dealer|      Manual|    0|\n",
            "|          sx4|2013|         4.75|         9.54|     43000|   Diesel|     Dealer|      Manual|    0|\n",
            "|         ciaz|2017|         7.25|         9.85|      6900|   Petrol|     Dealer|      Manual|    0|\n",
            "|      wagon r|2011|         2.85|         4.15|      5200|   Petrol|     Dealer|      Manual|    0|\n",
            "|        swift|2014|          4.6|         6.87|     42450|   Diesel|     Dealer|      Manual|    0|\n",
            "|vitara brezza|2018|         9.25|         9.83|      2071|   Diesel|     Dealer|      Manual|    0|\n",
            "|         ciaz|2015|         6.75|         8.12|     18796|   Petrol|     Dealer|      Manual|    0|\n",
            "|      s cross|2015|          6.5|         8.61|     33429|   Diesel|     Dealer|      Manual|    0|\n",
            "|         ciaz|2016|         8.75|         8.89|     20273|   Diesel|     Dealer|      Manual|    0|\n",
            "|         ciaz|2015|         7.45|         8.92|     42367|   Diesel|     Dealer|      Manual|    0|\n",
            "|     alto 800|2017|         2.85|          3.6|      2135|   Petrol|     Dealer|      Manual|    0|\n",
            "|         ciaz|2015|         6.85|        10.38|     51000|   Diesel|     Dealer|      Manual|    0|\n",
            "|         ciaz|2015|          7.5|         9.94|     15000|   Petrol|     Dealer|   Automatic|    0|\n",
            "|       ertiga|2015|          6.1|         7.71|     26000|   Petrol|     Dealer|      Manual|    0|\n",
            "|        dzire|2009|         2.25|         7.21|     77427|   Petrol|     Dealer|      Manual|    0|\n",
            "|       ertiga|2016|         7.75|        10.79|     43000|   Diesel|     Dealer|      Manual|    0|\n",
            "|       ertiga|2015|         7.25|        10.79|     41678|   Diesel|     Dealer|      Manual|    0|\n",
            "|       ertiga|2016|         7.75|        10.79|     43000|   Diesel|     Dealer|      Manual|    0|\n",
            "|      wagon r|2015|         3.25|         5.09|     35500|      CNG|     Dealer|      Manual|    0|\n",
            "|          sx4|2010|         2.65|         7.98|     41442|   Petrol|     Dealer|      Manual|    0|\n",
            "+-------------+----+-------------+-------------+----------+---------+-----------+------------+-----+\n",
            "only showing top 20 rows\n",
            "\n"
          ]
        }
      ]
    },
    {
      "cell_type": "markdown",
      "source": [
        "Análisis de correlaciones"
      ],
      "metadata": {
        "id": "IwmIZaTiJ5kg"
      }
    },
    {
      "cell_type": "code",
      "source": [
        "data = hdf.toPandas()\n",
        "plt.figure(figsize=(15,10))\n",
        "sns.heatmap(data.corr(), annot=True)\n",
        "plt.show()"
      ],
      "metadata": {
        "colab": {
          "base_uri": "https://localhost:8080/",
          "height": 631
        },
        "id": "xqyElPKQAg60",
        "outputId": "b2d9323e-de36-432d-b5d0-c9d6fcc9a991"
      },
      "execution_count": 27,
      "outputs": [
        {
          "output_type": "stream",
          "name": "stdout",
          "text": [
            "\n",
            "INFO: Safety is ON - returning up to 1000 instances.\n"
          ]
        },
        {
          "output_type": "display_data",
          "data": {
            "text/plain": [
              "<Figure size 1080x720 with 2 Axes>"
            ],
            "image/png": "[encoded data removed]"
          },
          "metadata": {
            "needs_background": "light"
          }
        }
      ]
    },
    {
      "cell_type": "markdown",
      "source": [
        "Selling_Price esta altamente correlacionada con Present_Price\n",
        "Kms_driven y year estan inversamente correlacionados"
      ],
      "metadata": {
        "id": "Uf9hasnOKvn-"
      }
    },
    {
      "cell_type": "markdown",
      "source": [
        "VectorAssamble para transformar los datos a un vector columna"
      ],
      "metadata": {
        "id": "1K8WGqLlLPD2"
      }
    },
    {
      "cell_type": "code",
      "source": [
        "featureassembler = VectorAssembler(inputCols=['Year', 'Present_Price', 'Kms_Driven', 'Owner'], outputCol='Independent')\n"
      ],
      "metadata": {
        "id": "hSidYWltLVtL"
      },
      "execution_count": 28,
      "outputs": []
    },
    {
      "cell_type": "code",
      "metadata": {
        "colab": {
          "base_uri": "https://localhost:8080/"
        },
        "id": "6rzqPvlDTbb-",
        "outputId": "13e57d49-d24e-4664-d18c-b4a8a513d238"
      },
      "source": [
        "output = featureassembler.transform(df)\n",
        "output.show()"
      ],
      "execution_count": 29,
      "outputs": [
        {
          "output_type": "stream",
          "name": "stdout",
          "text": [
            "+-------------+----+-------------+-------------+----------+---------+-----------+------------+-----+--------------------+\n",
            "|     Car_Name|Year|Selling_Price|Present_Price|Kms_Driven|Fuel_Type|Seller_Type|Transmission|Owner|         Independent|\n",
            "+-------------+----+-------------+-------------+----------+---------+-----------+------------+-----+--------------------+\n",
            "|         ritz|2014|         3.35|         5.59|     27000|   Petrol|     Dealer|      Manual|    0|[2014.0,5.59,2700...|\n",
            "|          sx4|2013|         4.75|         9.54|     43000|   Diesel|     Dealer|      Manual|    0|[2013.0,9.54,4300...|\n",
            "|         ciaz|2017|         7.25|         9.85|      6900|   Petrol|     Dealer|      Manual|    0|[2017.0,9.85,6900...|\n",
            "|      wagon r|2011|         2.85|         4.15|      5200|   Petrol|     Dealer|      Manual|    0|[2011.0,4.15,5200...|\n",
            "|        swift|2014|          4.6|         6.87|     42450|   Diesel|     Dealer|      Manual|    0|[2014.0,6.87,4245...|\n",
            "|vitara brezza|2018|         9.25|         9.83|      2071|   Diesel|     Dealer|      Manual|    0|[2018.0,9.83,2071...|\n",
            "|         ciaz|2015|         6.75|         8.12|     18796|   Petrol|     Dealer|      Manual|    0|[2015.0,8.12,1879...|\n",
            "|      s cross|2015|          6.5|         8.61|     33429|   Diesel|     Dealer|      Manual|    0|[2015.0,8.61,3342...|\n",
            "|         ciaz|2016|         8.75|         8.89|     20273|   Diesel|     Dealer|      Manual|    0|[2016.0,8.89,2027...|\n",
            "|         ciaz|2015|         7.45|         8.92|     42367|   Diesel|     Dealer|      Manual|    0|[2015.0,8.92,4236...|\n",
            "|     alto 800|2017|         2.85|          3.6|      2135|   Petrol|     Dealer|      Manual|    0|[2017.0,3.6,2135....|\n",
            "|         ciaz|2015|         6.85|        10.38|     51000|   Diesel|     Dealer|      Manual|    0|[2015.0,10.38,510...|\n",
            "|         ciaz|2015|          7.5|         9.94|     15000|   Petrol|     Dealer|   Automatic|    0|[2015.0,9.94,1500...|\n",
            "|       ertiga|2015|          6.1|         7.71|     26000|   Petrol|     Dealer|      Manual|    0|[2015.0,7.71,2600...|\n",
            "|        dzire|2009|         2.25|         7.21|     77427|   Petrol|     Dealer|      Manual|    0|[2009.0,7.21,7742...|\n",
            "|       ertiga|2016|         7.75|        10.79|     43000|   Diesel|     Dealer|      Manual|    0|[2016.0,10.79,430...|\n",
            "|       ertiga|2015|         7.25|        10.79|     41678|   Diesel|     Dealer|      Manual|    0|[2015.0,10.79,416...|\n",
            "|       ertiga|2016|         7.75|        10.79|     43000|   Diesel|     Dealer|      Manual|    0|[2016.0,10.79,430...|\n",
            "|      wagon r|2015|         3.25|         5.09|     35500|      CNG|     Dealer|      Manual|    0|[2015.0,5.09,3550...|\n",
            "|          sx4|2010|         2.65|         7.98|     41442|   Petrol|     Dealer|      Manual|    0|[2010.0,7.98,4144...|\n",
            "+-------------+----+-------------+-------------+----------+---------+-----------+------------+-----+--------------------+\n",
            "only showing top 20 rows\n",
            "\n"
          ]
        }
      ]
    },
    {
      "cell_type": "markdown",
      "source": [
        "Extraemos las características "
      ],
      "metadata": {
        "id": "z4IfrKDULl7Y"
      }
    },
    {
      "cell_type": "code",
      "source": [
        "final_data = output.select(\"Independent\", \"Selling_Price\")\n",
        "final_data.show()"
      ],
      "metadata": {
        "colab": {
          "base_uri": "https://localhost:8080/"
        },
        "id": "-okcS8c-LuMw",
        "outputId": "987d8e53-f1f9-4b16-e436-2d9fb411a724"
      },
      "execution_count": 30,
      "outputs": [
        {
          "output_type": "stream",
          "name": "stdout",
          "text": [
            "+--------------------+-------------+\n",
            "|         Independent|Selling_Price|\n",
            "+--------------------+-------------+\n",
            "|[2014.0,5.59,2700...|         3.35|\n",
            "|[2013.0,9.54,4300...|         4.75|\n",
            "|[2017.0,9.85,6900...|         7.25|\n",
            "|[2011.0,4.15,5200...|         2.85|\n",
            "|[2014.0,6.87,4245...|          4.6|\n",
            "|[2018.0,9.83,2071...|         9.25|\n",
            "|[2015.0,8.12,1879...|         6.75|\n",
            "|[2015.0,8.61,3342...|          6.5|\n",
            "|[2016.0,8.89,2027...|         8.75|\n",
            "|[2015.0,8.92,4236...|         7.45|\n",
            "|[2017.0,3.6,2135....|         2.85|\n",
            "|[2015.0,10.38,510...|         6.85|\n",
            "|[2015.0,9.94,1500...|          7.5|\n",
            "|[2015.0,7.71,2600...|          6.1|\n",
            "|[2009.0,7.21,7742...|         2.25|\n",
            "|[2016.0,10.79,430...|         7.75|\n",
            "|[2015.0,10.79,416...|         7.25|\n",
            "|[2016.0,10.79,430...|         7.75|\n",
            "|[2015.0,5.09,3550...|         3.25|\n",
            "|[2010.0,7.98,4144...|         2.65|\n",
            "+--------------------+-------------+\n",
            "only showing top 20 rows\n",
            "\n"
          ]
        }
      ]
    },
    {
      "cell_type": "markdown",
      "source": [
        "Creamos el set de entrenamiento y el set de pruebas"
      ],
      "metadata": {
        "id": "xPDiVjLdL3rY"
      }
    },
    {
      "cell_type": "code",
      "source": [
        "train_data, test_data = final_data.randomSplit(weights=[0.75,0.25], seed=42)"
      ],
      "metadata": {
        "id": "9S-RmRNyL0Ib"
      },
      "execution_count": 31,
      "outputs": []
    },
    {
      "cell_type": "markdown",
      "source": [
        "Inicialización y entrenamiento del modelo"
      ],
      "metadata": {
        "id": "9fcVKdfbMDVH"
      }
    },
    {
      "cell_type": "code",
      "source": [
        "ss = LinearRegression(featuresCol='Independent', labelCol='Selling_Price')\n",
        "ss = ss.fit(train_data)"
      ],
      "metadata": {
        "id": "XL44HL7FMF8l"
      },
      "execution_count": 32,
      "outputs": []
    },
    {
      "cell_type": "markdown",
      "source": [
        "Evaluación en el set de prueba"
      ],
      "metadata": {
        "id": "B10WwciEM6jV"
      }
    },
    {
      "cell_type": "code",
      "source": [
        "pred = ss.evaluate(test_data)\n",
        "pred.predictions.show()"
      ],
      "metadata": {
        "colab": {
          "base_uri": "https://localhost:8080/"
        },
        "id": "Zc_tUPJPM_3p",
        "outputId": "c7e2013f-21a9-43e0-f3ea-8356da25c8d9"
      },
      "execution_count": 33,
      "outputs": [
        {
          "output_type": "stream",
          "name": "stdout",
          "text": [
            "+--------------------+-------------+--------------------+\n",
            "|         Independent|Selling_Price|          prediction|\n",
            "+--------------------+-------------+--------------------+\n",
            "|[2004.0,12.35,135...|          1.5|  2.3625707415187662|\n",
            "|[2005.0,13.7,7500...|         3.51|   4.131049121599517|\n",
            "|[2006.0,4.15,6500...|         1.05|-0.40172096394360324|\n",
            "|[2006.0,7.6,50456...|          2.1|  1.5776887669329653|\n",
            "|[2008.0,0.52,5000...|         0.17|  -6.465321294491446|\n",
            "|[2008.0,22.78,890...|          4.0|   9.887276858135237|\n",
            "|[2009.0,11.0,8793...|         3.35|   4.080334117625853|\n",
            "|[2010.0,0.95,2700...|         0.45|-0.14040274162164224|\n",
            "|[2010.0,1.05,2130...|         0.31|  -2.187945872126079|\n",
            "|[2010.0,6.79,5800...|         3.25|  1.5140851543985718|\n",
            "|[2010.0,7.98,4144...|         2.65|   3.395310650985607|\n",
            "|[2010.0,9.9,38000...|         3.25|   4.444368091381762|\n",
            "|[2011.0,0.787,750...|         0.38| -0.3891627287642905|\n",
            "|[2011.0,1.05,3000...|         0.35|  0.2573152866507371|\n",
            "|[2011.0,1.5,6900....|         1.05|  0.7549053217305755|\n",
            "|[2011.0,4.15,5200...|         2.85|  2.1683774337850537|\n",
            "|[2011.0,4.6,22517...|          2.7|  2.2096123071127067|\n",
            "|[2011.0,4.89,5420...|         2.35|  2.0044554823377894|\n",
            "|[2011.0,7.74,4999...|         2.95|   3.551406560552664|\n",
            "|[2012.0,0.81,1900...|          0.6|    0.63422128957518|\n",
            "+--------------------+-------------+--------------------+\n",
            "only showing top 20 rows\n",
            "\n"
          ]
        }
      ]
    },
    {
      "cell_type": "code",
      "source": [
        "pred_train = ss.evaluate(train_data)\n",
        "pred_train.predictions.show()"
      ],
      "metadata": {
        "colab": {
          "base_uri": "https://localhost:8080/"
        },
        "id": "qGByH117Mpk1",
        "outputId": "3592d742-fce4-4538-9856-ec7e08be8b8d"
      },
      "execution_count": 36,
      "outputs": [
        {
          "output_type": "stream",
          "name": "stdout",
          "text": [
            "+--------------------+-------------+--------------------+\n",
            "|         Independent|Selling_Price|          prediction|\n",
            "+--------------------+-------------+--------------------+\n",
            "|[2003.0,2.28,1270...|         0.35| -3.2225914491643834|\n",
            "|[2003.0,7.98,6200...|         2.25|  0.5103456859753805|\n",
            "|[2005.0,0.57,5500...|          0.2|  -2.551376055881178|\n",
            "|[2005.0,10.21,900...|         2.75|  2.1254449253769963|\n",
            "|[2005.0,13.46,197...|         3.49|   2.625265150623136|\n",
            "|[2006.0,0.75,9223...|          0.1| -2.4980972177518197|\n",
            "|[2006.0,23.73,142...|          2.5|   5.826254583537548|\n",
            "|[2007.0,0.58,5300...|         0.12| -1.7655776896285715|\n",
            "|[2007.0,0.75,4900...|          0.2|  -2.699125798300315|\n",
            "|[2008.0,0.58,1900...|         0.25| -0.8096216706470614|\n",
            "|[2008.0,0.75,2600...|         0.25|  -2.060451617288777|\n",
            "|[2008.0,0.75,6000...|          0.2| -1.3761943739968956|\n",
            "|[2008.0,0.787,500...|          0.2| -1.2438154223618767|\n",
            "|[2008.0,7.15,5800...|         1.95|   2.013698756681947|\n",
            "|[2009.0,1.75,4000...|          0.9|-0.24525138734088614|\n",
            "|[2009.0,7.21,7742...|         2.25|   2.204891065721881|\n",
            "|[2009.0,10.0,6956...|          3.0|   3.761633155870186|\n",
            "|[2009.0,15.04,700...|          3.6|   6.408444873865847|\n",
            "|[2009.0,18.61,620...|          3.8|   8.377102274729282|\n",
            "|[2010.0,0.51,3300...|         0.16| -0.4396523703380808|\n",
            "+--------------------+-------------+--------------------+\n",
            "only showing top 20 rows\n",
            "\n"
          ]
        }
      ]
    },
    {
      "cell_type": "markdown",
      "source": [
        "Actual vs precios predecidos"
      ],
      "metadata": {
        "id": "RQO5yWRpNe77"
      }
    },
    {
      "cell_type": "code",
      "source": [
        "pred_hdf = pred.predictions.toHandy()\n",
        "fig, ax = plt.subplots(figsize=(10, 7))\n",
        "pred_hdf.cols[['Selling_Price', 'prediction']].scatterplot(ax=ax)\n",
        "plt.show()"
      ],
      "metadata": {
        "colab": {
          "base_uri": "https://localhost:8080/",
          "height": 443
        },
        "id": "DYrD9PAAJrvf",
        "outputId": "b6c7efac-1cc2-44ac-e8d5-0cf1607cff67"
      },
      "execution_count": null,
      "outputs": [
        {
          "output_type": "display_data",
          "data": {
            "text/plain": [
              "<Figure size 720x504 with 1 Axes>"
            ],
            "image/png": "[encoded data removed]"
          },
          "metadata": {
            "needs_background": "light"
          }
        }
      ]
    },
    {
      "cell_type": "markdown",
      "source": [
        "Scores"
      ],
      "metadata": {
        "id": "gx7FAAHsN19d"
      }
    },
    {
      "cell_type": "code",
      "source": [
        "print('RMSE for train set:', pred_train.rootMeanSquaredError)\n",
        "print('RMSE for test set:', pred.rootMeanSquaredError)"
      ],
      "metadata": {
        "colab": {
          "base_uri": "https://localhost:8080/"
        },
        "id": "SyM1k4TvN_8Y",
        "outputId": "a4b9e45a-313a-4757-cf2f-d867acdce345"
      },
      "execution_count": 37,
      "outputs": [
        {
          "output_type": "stream",
          "name": "stdout",
          "text": [
            "RMSE for train set: 1.9702166887296308\n",
            "RMSE for test set: 2.020857083342057\n"
          ]
        }
      ]
    },
    {
      "cell_type": "code",
      "source": [
        "print('MSE for train set:', pred_train.meanSquaredError)\n",
        "print('MSE for test set:', pred.meanSquaredError)"
      ],
      "metadata": {
        "colab": {
          "base_uri": "https://localhost:8080/"
        },
        "id": "l0CQ6RJLOLiG",
        "outputId": "94420eff-0284-4cd4-db70-b90e8699e548"
      },
      "execution_count": 38,
      "outputs": [
        {
          "output_type": "stream",
          "name": "stdout",
          "text": [
            "MSE for train set: 3.8817538005487515\n",
            "MSE for test set: 4.083863351293766\n"
          ]
        }
      ]
    },
    {
      "cell_type": "code",
      "source": [
        "print('R2-Score for train set:', pred_train.r2)\n",
        "print('R2-Score for test set:', pred.r2)"
      ],
      "metadata": {
        "colab": {
          "base_uri": "https://localhost:8080/"
        },
        "id": "Pf9qbPYWOP4l",
        "outputId": "2d48e1b6-3b08-4b25-c675-5ce9151951d0"
      },
      "execution_count": 39,
      "outputs": [
        {
          "output_type": "stream",
          "name": "stdout",
          "text": [
            "R2-Score for train set: 0.8515799987327323\n",
            "R2-Score for test set: 0.8308412358811239\n"
          ]
        }
      ]
    }
  ]
}